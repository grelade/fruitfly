{
 "cells": [
  {
   "cell_type": "code",
   "execution_count": 2,
   "metadata": {},
   "outputs": [],
   "source": [
    "import pandas as pd\n",
    "import numpy as np\n",
    "import matplotlib.pyplot as plt\n",
    "import sys\n",
    "\n",
    "from neuprint import Client\n",
    "\n",
    "from dataset_utils import fetch_adjacency, fetch_rois_from_metadata, fetch_rois_from_df, fetch_primary_roi_datasets\n",
    "from fh import flow_hierarchy\n",
    "from utils import conn2adj\n",
    "from config import conf\n"
   ]
  },
  {
   "cell_type": "markdown",
   "metadata": {},
   "source": [
    "<h1>primary_rois / flow hierarchy</h1>"
   ]
  },
  {
   "cell_type": "code",
   "execution_count": 3,
   "metadata": {},
   "outputs": [],
   "source": [
    "c = Client(conf.neuprint_URL, conf.dataset_version)\n"
   ]
  },
  {
   "cell_type": "code",
   "execution_count": 4,
   "metadata": {},
   "outputs": [
    {
     "name": "stdout",
     "output_type": "stream",
     "text": [
      "dataset already downloaded\n",
      "dataset already downloaded\n",
      "dataset already downloaded\n",
      "dataset already downloaded\n",
      "dataset already downloaded\n",
      "downloading dataset\n",
      "download problem, skipping\n",
      "dataset already downloaded\n",
      "dataset already downloaded\n",
      "dataset already downloaded\n",
      "dataset already downloaded\n",
      "dataset already downloaded\n",
      "dataset already downloaded\n",
      "dataset already downloaded\n",
      "dataset already downloaded\n",
      "dataset already downloaded\n",
      "dataset already downloaded\n",
      "dataset already downloaded\n",
      "dataset already downloaded\n",
      "dataset already downloaded\n",
      "dataset already downloaded\n",
      "dataset already downloaded\n",
      "dataset already downloaded\n",
      "dataset already downloaded\n",
      "dataset already downloaded\n",
      "dataset already downloaded\n",
      "dataset already downloaded\n",
      "dataset already downloaded\n",
      "dataset already downloaded\n",
      "dataset already downloaded\n",
      "dataset already downloaded\n",
      "dataset already downloaded\n",
      "dataset already downloaded\n",
      "dataset already downloaded\n",
      "dataset already downloaded\n",
      "dataset already downloaded\n",
      "dataset already downloaded\n",
      "dataset already downloaded\n",
      "dataset already downloaded\n",
      "dataset already downloaded\n",
      "dataset already downloaded\n",
      "dataset already downloaded\n",
      "dataset already downloaded\n",
      "dataset already downloaded\n",
      "dataset already downloaded\n",
      "dataset already downloaded\n",
      "dataset already downloaded\n",
      "dataset already downloaded\n",
      "dataset already downloaded\n",
      "dataset already downloaded\n",
      "dataset already downloaded\n",
      "dataset already downloaded\n",
      "dataset already downloaded\n",
      "dataset already downloaded\n",
      "dataset already downloaded\n",
      "dataset already downloaded\n",
      "dataset already downloaded\n",
      "dataset already downloaded\n",
      "dataset already downloaded\n",
      "dataset already downloaded\n",
      "dataset already downloaded\n",
      "dataset already downloaded\n",
      "dataset already downloaded\n",
      "dataset already downloaded\n"
     ]
    }
   ],
   "source": [
    "er = fetch_primary_roi_datasets(client=c)"
   ]
  },
  {
   "cell_type": "code",
   "execution_count": null,
   "metadata": {},
   "outputs": [],
   "source": [
    "_, primary_rois, _, toplevel_rois = fetch_rois_from_metadata(client=c)\n",
    "results = pd.DataFrame(data=primary_rois,columns=['primary_roi'])"
   ]
  },
  {
   "cell_type": "code",
   "execution_count": 9,
   "metadata": {},
   "outputs": [],
   "source": [
    "fhs = {}"
   ]
  },
  {
   "cell_type": "code",
   "execution_count": 10,
   "metadata": {},
   "outputs": [
    {
     "name": "stdout",
     "output_type": "stream",
     "text": [
      "ME(R)\n",
      "dataset already downloaded\n"
     ]
    }
   ],
   "source": [
    "rec = results.iloc[0]\n",
    "roi = rec['primary_roi']\n",
    "print(roi)\n",
    "if roi not in ['aa'] and roi not in fhs.keys():\n",
    "    n,conn = fetch_adjacency(rois=[roi],client=c)"
   ]
  },
  {
   "cell_type": "code",
   "execution_count": 12,
   "metadata": {},
   "outputs": [],
   "source": [
    "nlist,adj = conn2adj(conn)"
   ]
  },
  {
   "cell_type": "code",
   "execution_count": 17,
   "metadata": {},
   "outputs": [
    {
     "name": "stdout",
     "output_type": "stream",
     "text": [
      "starting python alg...\n"
     ]
    }
   ],
   "source": [
    "adj = np.random.randint(2,size=(100,100))\n",
    "fh = flow_hierarchy.calc_fh(adj,alg='py')"
   ]
  },
  {
   "cell_type": "code",
   "execution_count": 18,
   "metadata": {},
   "outputs": [
    {
     "data": {
      "text/plain": [
       "0.00040064102564102563"
      ]
     },
     "execution_count": 18,
     "metadata": {},
     "output_type": "execute_result"
    }
   ],
   "source": [
    "fh"
   ]
  },
  {
   "cell_type": "code",
   "execution_count": 11,
   "metadata": {},
   "outputs": [
    {
     "name": "stdout",
     "output_type": "stream",
     "text": [
      "ME(R)\n",
      "dataset already downloaded\n",
      "adj size = (71, 71)\n",
      "starting python alg...\n",
      "AME(R)\n",
      "dataset already downloaded\n",
      "adj size = (146, 146)\n",
      "starting python alg...\n"
     ]
    },
    {
     "ename": "KeyboardInterrupt",
     "evalue": "",
     "output_type": "error",
     "traceback": [
      "\u001b[0;31m---------------------------------------------------------------------------\u001b[0m",
      "\u001b[0;31mKeyboardInterrupt\u001b[0m                         Traceback (most recent call last)",
      "\u001b[0;32m<ipython-input-11-7d0543a847d6>\u001b[0m in \u001b[0;36m<module>\u001b[0;34m\u001b[0m\n\u001b[1;32m      9\u001b[0m             \u001b[0mnlist\u001b[0m\u001b[0;34m,\u001b[0m\u001b[0madj\u001b[0m \u001b[0;34m=\u001b[0m \u001b[0mconn2adj\u001b[0m\u001b[0;34m(\u001b[0m\u001b[0mconn\u001b[0m\u001b[0;34m)\u001b[0m\u001b[0;34m\u001b[0m\u001b[0;34m\u001b[0m\u001b[0m\n\u001b[1;32m     10\u001b[0m             \u001b[0mprint\u001b[0m\u001b[0;34m(\u001b[0m\u001b[0;34m'adj size ='\u001b[0m\u001b[0;34m,\u001b[0m\u001b[0madj\u001b[0m\u001b[0;34m.\u001b[0m\u001b[0mshape\u001b[0m\u001b[0;34m)\u001b[0m\u001b[0;34m\u001b[0m\u001b[0;34m\u001b[0m\u001b[0m\n\u001b[0;32m---> 11\u001b[0;31m             \u001b[0mfh\u001b[0m \u001b[0;34m=\u001b[0m \u001b[0mflow_hierarchy\u001b[0m\u001b[0;34m.\u001b[0m\u001b[0mcalc_fh\u001b[0m\u001b[0;34m(\u001b[0m\u001b[0madj\u001b[0m\u001b[0;34m,\u001b[0m\u001b[0malg\u001b[0m\u001b[0;34m=\u001b[0m\u001b[0;34m'py'\u001b[0m\u001b[0;34m)\u001b[0m\u001b[0;34m\u001b[0m\u001b[0;34m\u001b[0m\u001b[0m\n\u001b[0m\u001b[1;32m     12\u001b[0m             \u001b[0mfhs\u001b[0m\u001b[0;34m[\u001b[0m\u001b[0mroi\u001b[0m\u001b[0;34m]\u001b[0m \u001b[0;34m=\u001b[0m \u001b[0mfh\u001b[0m\u001b[0;34m\u001b[0m\u001b[0;34m\u001b[0m\u001b[0m\n\u001b[1;32m     13\u001b[0m         \u001b[0;32melse\u001b[0m\u001b[0;34m:\u001b[0m\u001b[0;34m\u001b[0m\u001b[0;34m\u001b[0m\u001b[0m\n",
      "\u001b[0;32m~/local_project/fruitfly/fly/fh/flow_hierarchy.py\u001b[0m in \u001b[0;36mcalc_fh\u001b[0;34m(A, alg)\u001b[0m\n\u001b[1;32m     76\u001b[0m     \u001b[0;32mif\u001b[0m \u001b[0malg\u001b[0m\u001b[0;34m==\u001b[0m\u001b[0;34m'py'\u001b[0m\u001b[0;34m:\u001b[0m\u001b[0;34m\u001b[0m\u001b[0;34m\u001b[0m\u001b[0m\n\u001b[1;32m     77\u001b[0m         \u001b[0mprint\u001b[0m\u001b[0;34m(\u001b[0m\u001b[0;34m'starting python alg...'\u001b[0m\u001b[0;34m)\u001b[0m\u001b[0;34m\u001b[0m\u001b[0;34m\u001b[0m\u001b[0m\n\u001b[0;32m---> 78\u001b[0;31m         \u001b[0;32mreturn\u001b[0m \u001b[0mhpy\u001b[0m\u001b[0;34m(\u001b[0m\u001b[0mA\u001b[0m\u001b[0;34m)\u001b[0m\u001b[0;34m\u001b[0m\u001b[0;34m\u001b[0m\u001b[0m\n\u001b[0m\u001b[1;32m     79\u001b[0m     \u001b[0;32melse\u001b[0m\u001b[0;34m:\u001b[0m\u001b[0;34m\u001b[0m\u001b[0;34m\u001b[0m\u001b[0m\n\u001b[1;32m     80\u001b[0m         \u001b[0mprint\u001b[0m\u001b[0;34m(\u001b[0m\u001b[0;34m'starting MATLAB alg...'\u001b[0m\u001b[0;34m)\u001b[0m\u001b[0;34m\u001b[0m\u001b[0;34m\u001b[0m\u001b[0m\n",
      "\u001b[0;32m~/local_project/fruitfly/fly/fh/flow_hierarchy.py\u001b[0m in \u001b[0;36mhpy\u001b[0;34m(A)\u001b[0m\n\u001b[1;32m     38\u001b[0m     \u001b[0;32mfor\u001b[0m \u001b[0mk\u001b[0m \u001b[0;32min\u001b[0m \u001b[0mrange\u001b[0m\u001b[0;34m(\u001b[0m\u001b[0;36m2\u001b[0m\u001b[0;34m,\u001b[0m\u001b[0mL\u001b[0m\u001b[0;34m)\u001b[0m\u001b[0;34m:\u001b[0m\u001b[0;34m\u001b[0m\u001b[0;34m\u001b[0m\u001b[0m\n\u001b[1;32m     39\u001b[0m         \u001b[0mBk\u001b[0m \u001b[0;34m=\u001b[0m \u001b[0mnp\u001b[0m\u001b[0;34m.\u001b[0m\u001b[0mmatmul\u001b[0m\u001b[0;34m(\u001b[0m\u001b[0mBk\u001b[0m\u001b[0;34m,\u001b[0m\u001b[0mB\u001b[0m\u001b[0;34m)\u001b[0m\u001b[0;34m\u001b[0m\u001b[0;34m\u001b[0m\u001b[0m\n\u001b[0;32m---> 40\u001b[0;31m         \u001b[0muBk\u001b[0m \u001b[0;34m=\u001b[0m \u001b[0munitize\u001b[0m\u001b[0;34m(\u001b[0m\u001b[0mBk\u001b[0m\u001b[0;34m)\u001b[0m\u001b[0;34m\u001b[0m\u001b[0;34m\u001b[0m\u001b[0m\n\u001b[0m\u001b[1;32m     41\u001b[0m         \u001b[0mDBk\u001b[0m \u001b[0;34m=\u001b[0m \u001b[0munitize\u001b[0m\u001b[0;34m(\u001b[0m\u001b[0muBk\u001b[0m\u001b[0;34m-\u001b[0m\u001b[0msumuBk\u001b[0m\u001b[0;34m)\u001b[0m \u001b[0;31m# was uBk-sumuBk > 0\u001b[0m\u001b[0;34m\u001b[0m\u001b[0;34m\u001b[0m\u001b[0m\n\u001b[1;32m     42\u001b[0m         \u001b[0msumuBk\u001b[0m\u001b[0;34m+=\u001b[0m\u001b[0muBk\u001b[0m\u001b[0;34m\u001b[0m\u001b[0;34m\u001b[0m\u001b[0m\n",
      "\u001b[0;32m~/local_project/fruitfly/fly/fh/flow_hierarchy.py\u001b[0m in \u001b[0;36munitize\u001b[0;34m(mat)\u001b[0m\n\u001b[1;32m     58\u001b[0m \u001b[0;34m\u001b[0m\u001b[0m\n\u001b[1;32m     59\u001b[0m \u001b[0;32mdef\u001b[0m \u001b[0munitize\u001b[0m\u001b[0;34m(\u001b[0m\u001b[0mmat\u001b[0m\u001b[0;34m)\u001b[0m\u001b[0;34m:\u001b[0m\u001b[0;34m\u001b[0m\u001b[0;34m\u001b[0m\u001b[0m\n\u001b[0;32m---> 60\u001b[0;31m     \u001b[0;32mreturn\u001b[0m \u001b[0mnp\u001b[0m\u001b[0;34m.\u001b[0m\u001b[0marray\u001b[0m\u001b[0;34m(\u001b[0m\u001b[0mlist\u001b[0m\u001b[0;34m(\u001b[0m\u001b[0mmap\u001b[0m\u001b[0;34m(\u001b[0m\u001b[0mnp\u001b[0m\u001b[0;34m.\u001b[0m\u001b[0mvectorize\u001b[0m\u001b[0;34m(\u001b[0m\u001b[0;32mlambda\u001b[0m \u001b[0mx\u001b[0m\u001b[0;34m:\u001b[0m \u001b[0;36m1\u001b[0m \u001b[0;32mif\u001b[0m \u001b[0mx\u001b[0m\u001b[0;34m>\u001b[0m\u001b[0;36m0\u001b[0m \u001b[0;32melse\u001b[0m \u001b[0;36m0\u001b[0m\u001b[0;34m)\u001b[0m\u001b[0;34m,\u001b[0m\u001b[0mmat\u001b[0m\u001b[0;34m)\u001b[0m\u001b[0;34m)\u001b[0m\u001b[0;34m)\u001b[0m\u001b[0;34m\u001b[0m\u001b[0;34m\u001b[0m\u001b[0m\n\u001b[0m\u001b[1;32m     61\u001b[0m \u001b[0;34m\u001b[0m\u001b[0m\n\u001b[1;32m     62\u001b[0m \u001b[0;31m# shabby pipe to matlab algorithm\u001b[0m\u001b[0;34m\u001b[0m\u001b[0;34m\u001b[0m\u001b[0;34m\u001b[0m\u001b[0m\n",
      "\u001b[0;32m/usr/local/lib/python3.7/dist-packages/numpy/lib/function_base.py\u001b[0m in \u001b[0;36m__call__\u001b[0;34m(self, *args, **kwargs)\u001b[0m\n\u001b[1;32m   2089\u001b[0m             \u001b[0mvargs\u001b[0m\u001b[0;34m.\u001b[0m\u001b[0mextend\u001b[0m\u001b[0;34m(\u001b[0m\u001b[0;34m[\u001b[0m\u001b[0mkwargs\u001b[0m\u001b[0;34m[\u001b[0m\u001b[0m_n\u001b[0m\u001b[0;34m]\u001b[0m \u001b[0;32mfor\u001b[0m \u001b[0m_n\u001b[0m \u001b[0;32min\u001b[0m \u001b[0mnames\u001b[0m\u001b[0;34m]\u001b[0m\u001b[0;34m)\u001b[0m\u001b[0;34m\u001b[0m\u001b[0;34m\u001b[0m\u001b[0m\n\u001b[1;32m   2090\u001b[0m \u001b[0;34m\u001b[0m\u001b[0m\n\u001b[0;32m-> 2091\u001b[0;31m         \u001b[0;32mreturn\u001b[0m \u001b[0mself\u001b[0m\u001b[0;34m.\u001b[0m\u001b[0m_vectorize_call\u001b[0m\u001b[0;34m(\u001b[0m\u001b[0mfunc\u001b[0m\u001b[0;34m=\u001b[0m\u001b[0mfunc\u001b[0m\u001b[0;34m,\u001b[0m \u001b[0margs\u001b[0m\u001b[0;34m=\u001b[0m\u001b[0mvargs\u001b[0m\u001b[0;34m)\u001b[0m\u001b[0;34m\u001b[0m\u001b[0;34m\u001b[0m\u001b[0m\n\u001b[0m\u001b[1;32m   2092\u001b[0m \u001b[0;34m\u001b[0m\u001b[0m\n\u001b[1;32m   2093\u001b[0m     \u001b[0;32mdef\u001b[0m \u001b[0m_get_ufunc_and_otypes\u001b[0m\u001b[0;34m(\u001b[0m\u001b[0mself\u001b[0m\u001b[0;34m,\u001b[0m \u001b[0mfunc\u001b[0m\u001b[0;34m,\u001b[0m \u001b[0margs\u001b[0m\u001b[0;34m)\u001b[0m\u001b[0;34m:\u001b[0m\u001b[0;34m\u001b[0m\u001b[0;34m\u001b[0m\u001b[0m\n",
      "\u001b[0;32m/usr/local/lib/python3.7/dist-packages/numpy/lib/function_base.py\u001b[0m in \u001b[0;36m_vectorize_call\u001b[0;34m(self, func, args)\u001b[0m\n\u001b[1;32m   2165\u001b[0m                       for a in args]\n\u001b[1;32m   2166\u001b[0m \u001b[0;34m\u001b[0m\u001b[0m\n\u001b[0;32m-> 2167\u001b[0;31m             \u001b[0moutputs\u001b[0m \u001b[0;34m=\u001b[0m \u001b[0mufunc\u001b[0m\u001b[0;34m(\u001b[0m\u001b[0;34m*\u001b[0m\u001b[0minputs\u001b[0m\u001b[0;34m)\u001b[0m\u001b[0;34m\u001b[0m\u001b[0;34m\u001b[0m\u001b[0m\n\u001b[0m\u001b[1;32m   2168\u001b[0m \u001b[0;34m\u001b[0m\u001b[0m\n\u001b[1;32m   2169\u001b[0m             \u001b[0;32mif\u001b[0m \u001b[0mufunc\u001b[0m\u001b[0;34m.\u001b[0m\u001b[0mnout\u001b[0m \u001b[0;34m==\u001b[0m \u001b[0;36m1\u001b[0m\u001b[0;34m:\u001b[0m\u001b[0;34m\u001b[0m\u001b[0;34m\u001b[0m\u001b[0m\n",
      "\u001b[0;32m~/local_project/fruitfly/fly/fh/flow_hierarchy.py\u001b[0m in \u001b[0;36m<lambda>\u001b[0;34m(x)\u001b[0m\n\u001b[1;32m     58\u001b[0m \u001b[0;34m\u001b[0m\u001b[0m\n\u001b[1;32m     59\u001b[0m \u001b[0;32mdef\u001b[0m \u001b[0munitize\u001b[0m\u001b[0;34m(\u001b[0m\u001b[0mmat\u001b[0m\u001b[0;34m)\u001b[0m\u001b[0;34m:\u001b[0m\u001b[0;34m\u001b[0m\u001b[0;34m\u001b[0m\u001b[0m\n\u001b[0;32m---> 60\u001b[0;31m     \u001b[0;32mreturn\u001b[0m \u001b[0mnp\u001b[0m\u001b[0;34m.\u001b[0m\u001b[0marray\u001b[0m\u001b[0;34m(\u001b[0m\u001b[0mlist\u001b[0m\u001b[0;34m(\u001b[0m\u001b[0mmap\u001b[0m\u001b[0;34m(\u001b[0m\u001b[0mnp\u001b[0m\u001b[0;34m.\u001b[0m\u001b[0mvectorize\u001b[0m\u001b[0;34m(\u001b[0m\u001b[0;32mlambda\u001b[0m \u001b[0mx\u001b[0m\u001b[0;34m:\u001b[0m \u001b[0;36m1\u001b[0m \u001b[0;32mif\u001b[0m \u001b[0mx\u001b[0m\u001b[0;34m>\u001b[0m\u001b[0;36m0\u001b[0m \u001b[0;32melse\u001b[0m \u001b[0;36m0\u001b[0m\u001b[0;34m)\u001b[0m\u001b[0;34m,\u001b[0m\u001b[0mmat\u001b[0m\u001b[0;34m)\u001b[0m\u001b[0;34m)\u001b[0m\u001b[0;34m)\u001b[0m\u001b[0;34m\u001b[0m\u001b[0;34m\u001b[0m\u001b[0m\n\u001b[0m\u001b[1;32m     61\u001b[0m \u001b[0;34m\u001b[0m\u001b[0m\n\u001b[1;32m     62\u001b[0m \u001b[0;31m# shabby pipe to matlab algorithm\u001b[0m\u001b[0;34m\u001b[0m\u001b[0;34m\u001b[0m\u001b[0;34m\u001b[0m\u001b[0m\n",
      "\u001b[0;31mKeyboardInterrupt\u001b[0m: "
     ]
    }
   ],
   "source": [
    "\n",
    "for i,rec in results.iterrows():\n",
    "    try:\n",
    "        roi = rec['primary_roi']\n",
    "        print(roi)\n",
    "        if roi not in empty_rois and roi not in fhs.keys():\n",
    "            n,conn = fetch_adjacency(rois=[roi],client=c)\n",
    "\n",
    "            nlist,adj = conn2adj(conn)\n",
    "            print('adj size =',adj.shape)\n",
    "            fh = flow_hierarchy.calc_fh(adj,alg='py')\n",
    "            fhs[roi] = fh\n",
    "        else:\n",
    "            print('computed or skipping')\n",
    "    except MemoryError:\n",
    "        print('memory error')\n",
    "        continue"
   ]
  },
  {
   "cell_type": "code",
   "execution_count": 10,
   "metadata": {},
   "outputs": [
    {
     "data": {
      "text/plain": [
       "{'ME(R)': 0.8958333333333334, 'AME(R)': 0.8278537880334899}"
      ]
     },
     "execution_count": 10,
     "metadata": {},
     "output_type": "execute_result"
    }
   ],
   "source": [
    "fhs"
   ]
  },
  {
   "cell_type": "code",
   "execution_count": 2,
   "metadata": {},
   "outputs": [],
   "source": [
    "regions = {'cpu':['CX'],'cpu2':['PB']}"
   ]
  },
  {
   "cell_type": "code",
   "execution_count": 3,
   "metadata": {},
   "outputs": [
    {
     "name": "stdout",
     "output_type": "stream",
     "text": [
      "dataset already downloaded\n",
      "dataset already downloaded\n"
     ]
    }
   ],
   "source": [
    "for key in regions.keys():\n",
    "    fetch_adjacency(rois=regions[key])"
   ]
  },
  {
   "cell_type": "code",
   "execution_count": 3,
   "metadata": {},
   "outputs": [
    {
     "name": "stdout",
     "output_type": "stream",
     "text": [
      "dataset already downloaded\n"
     ]
    }
   ],
   "source": [
    "client = API_TOKEN=conf.api_token,\n",
    "neurons,conn_df = fetch_adjacency(rois=regions['cpu2'])"
   ]
  },
  {
   "cell_type": "code",
   "execution_count": 7,
   "metadata": {},
   "outputs": [
    {
     "name": "stdout",
     "output_type": "stream",
     "text": [
      "dataset already downloaded\n"
     ]
    }
   ],
   "source": [
    "neurons,conn_df = fetch_adjacency()"
   ]
  },
  {
   "cell_type": "code",
   "execution_count": 8,
   "metadata": {},
   "outputs": [
    {
     "data": {
      "text/plain": [
       "array(['SLP(R)', 'PLP(R)', 'ICL(R)', 'SCL(R)', 'AVLP(R)', 'LH(R)',\n",
       "       'SMP(L)', 'FB', 'AB(R)', 'SMP(R)', 'SIP(R)', 'SIP(L)', 'SCL(L)',\n",
       "       'NotPrimary', 'SPS(L)', 'IPS(R)', 'SPS(R)', 'BU(L)', 'CRE(L)',\n",
       "       'IB', 'AME(R)', 'CA(R)', 'CRE(R)', 'EPA(R)', 'bL(R)', \"b'L(R)\",\n",
       "       'bL(L)', 'PED(R)', 'aL(R)', 'gL(R)', \"b'L(L)\", 'gL(L)', 'ICL(L)',\n",
       "       'AB(L)', 'AL(R)', 'ATL(L)', 'LAL(R)', 'EB', 'PVLP(R)', 'ATL(R)',\n",
       "       'AOTU(R)', \"a'L(R)\", 'LO(R)', 'FLA(R)', 'VES(R)', 'aL(L)',\n",
       "       'GOR(R)', 'WED(R)', 'LAL(L)', 'NO', 'PB', 'SAD', 'BU(R)', \"a'L(L)\",\n",
       "       'GOR(L)', 'GNG', 'CAN(R)', 'VES(L)', 'EPA(L)', 'ME(R)', 'AL(L)',\n",
       "       'LOP(R)'], dtype=object)"
      ]
     },
     "execution_count": 8,
     "metadata": {},
     "output_type": "execute_result"
    }
   ],
   "source": [
    "conn_df['roi'].unique()"
   ]
  },
  {
   "cell_type": "code",
   "execution_count": 5,
   "metadata": {},
   "outputs": [],
   "source": [
    "adjId_to_bodyId,A = conn2adj(conn_df=conn_df)"
   ]
  },
  {
   "cell_type": "code",
   "execution_count": 13,
   "metadata": {},
   "outputs": [],
   "source": [
    "fetch_roi_hierarchy?"
   ]
  },
  {
   "cell_type": "code",
   "execution_count": 23,
   "metadata": {},
   "outputs": [
    {
     "name": "stdout",
     "output_type": "stream",
     "text": [
      "dataset already downloaded\n"
     ]
    }
   ],
   "source": [
    "n,c = fetch_adjacency()"
   ]
  },
  {
   "cell_type": "code",
   "execution_count": 29,
   "metadata": {},
   "outputs": [
    {
     "data": {
      "text/plain": [
       "1"
      ]
     },
     "execution_count": 29,
     "metadata": {},
     "output_type": "execute_result"
    }
   ],
   "source": [
    "len(conn_df['roi'].unique())"
   ]
  },
  {
   "cell_type": "code",
   "execution_count": 22,
   "metadata": {},
   "outputs": [
    {
     "name": "stdout",
     "output_type": "stream",
     "text": [
      "hemibrain\n",
      " +-- AL(L)\n",
      " +-- AL(R)\n",
      " +-- AOT(R)\n",
      " +-- CX\n",
      " |   +-- AB(L)\n",
      " |   +-- AB(R)\n",
      " |   +-- EB\n",
      " |   +-- FB\n",
      " |   +-- NO\n",
      " |   +-- PB\n",
      " +-- GC\n",
      " +-- GF(R)\n",
      " +-- GNG\n",
      " +-- INP\n",
      " |   +-- ATL(L)\n",
      " |   +-- ATL(R)\n",
      " |   +-- CRE(L)\n",
      " |   +-- CRE(R)\n",
      " |   +-- IB\n",
      " |   +-- ICL(L)\n",
      " |   +-- ICL(R)\n",
      " |   +-- SCL(L)\n",
      " |   +-- SCL(R)\n",
      " +-- LH(R)\n",
      " +-- LX(L)\n",
      " |   +-- BU(L)\n",
      " |   +-- LAL(L)\n",
      " +-- LX(R)\n",
      " |   +-- BU(R)\n",
      " |   +-- LAL(R)\n",
      " +-- MB(+ACA)(R)\n",
      " |   +-- MB(R)\n",
      " |   |   +-- CA(R)\n",
      " |   |   +-- PED(R)\n",
      " |   |   +-- a'L(R)\n",
      " |   |   +-- aL(R)\n",
      " |   |   +-- b'L(R)\n",
      " |   |   +-- bL(R)\n",
      " |   |   +-- gL(R)\n",
      " |   +-- dACA(R)\n",
      " |   +-- lACA(R)\n",
      " |   +-- vACA(R)\n",
      " +-- MB(L)\n",
      " |   +-- CA(L)\n",
      " |   +-- a'L(L)\n",
      " |   +-- aL(L)\n",
      " |   +-- b'L(L)\n",
      " |   +-- bL(L)\n",
      " |   +-- gL(L)\n",
      " +-- OL(R)\n",
      " |   +-- AME(R)\n",
      " |   +-- LO(R)\n",
      " |   +-- LOP(R)\n",
      " |   +-- ME(R)\n",
      " +-- PENP\n",
      " |   +-- CAN(R)\n",
      " |   +-- FLA(R)\n",
      " |   +-- PRW\n",
      " |   +-- SAD\n",
      " +-- POC\n",
      " +-- SNP(L)\n",
      " |   +-- SIP(L)\n",
      " |   +-- SMP(L)\n",
      " +-- SNP(R)\n",
      " |   +-- SIP(R)\n",
      " |   +-- SLP(R)\n",
      " |   +-- SMP(R)\n",
      " +-- VLNP(R)\n",
      " |   +-- AOTU(R)\n",
      " |   +-- AVLP(R)\n",
      " |   +-- PLP(R)\n",
      " |   +-- PVLP(R)\n",
      " |   +-- WED(R)\n",
      " +-- VMNP\n",
      " |   +-- EPA(L)\n",
      " |   +-- EPA(R)\n",
      " |   +-- GOR(L)\n",
      " |   +-- GOR(R)\n",
      " |   +-- IPS(R)\n",
      " |   +-- SPS(L)\n",
      " |   +-- SPS(R)\n",
      " |   +-- VES(L)\n",
      " |   +-- VES(R)\n",
      " +-- mALT(L)\n",
      " +-- mALT(R)\n"
     ]
    }
   ],
   "source": [
    "print(fetch_roi_hierarchy(mark_primary=False,include_subprimary=False,format='text'))"
   ]
  },
  {
   "cell_type": "code",
   "execution_count": 16,
   "metadata": {},
   "outputs": [
    {
     "name": "stdout",
     "output_type": "stream",
     "text": [
      "hemibrain\n",
      " +-- AL(L)\n",
      " |   +-- AL-D(L)\n",
      " |   +-- AL-DA2(L)\n",
      " |   +-- AL-DA3(L)\n",
      " |   +-- AL-DA4m(L)\n",
      " |   +-- AL-DC1(L)\n",
      " |   +-- AL-DC2(L)\n",
      " |   +-- AL-DC4(L)\n",
      " |   +-- AL-DL4(L)\n",
      " |   +-- AL-DL5(L)\n",
      " |   +-- AL-DM1(L)\n",
      " |   +-- AL-DM2(L)\n",
      " |   +-- AL-DM3(L)\n",
      " |   +-- AL-DM4(L)\n",
      " |   +-- AL-DM5(L)\n",
      " |   +-- AL-DM6(L)\n",
      " |   +-- AL-DP1m(L)\n",
      " |   +-- AL-VA6(L)\n",
      " |   +-- AL-VM7d(L)\n",
      " |   +-- AL-VM7v(L)\n",
      " +-- AL(R)\n",
      " |   +-- AL-D(R)\n",
      " |   +-- AL-DA1(R)\n",
      " |   +-- AL-DA2(R)\n",
      " |   +-- AL-DA3(R)\n",
      " |   +-- AL-DA4l(R)\n",
      " |   +-- AL-DA4m(R)\n",
      " |   +-- AL-DC1(R)\n",
      " |   +-- AL-DC2(R)\n",
      " |   +-- AL-DC3(R)\n",
      " |   +-- AL-DC4(R)\n",
      " |   +-- AL-DL1(R)\n",
      " |   +-- AL-DL2d(R)\n",
      " |   +-- AL-DL2v(R)\n",
      " |   +-- AL-DL3(R)\n",
      " |   +-- AL-DL4(R)\n",
      " |   +-- AL-DL5(R)\n",
      " |   +-- AL-DM1(R)\n",
      " |   +-- AL-DM2(R)\n",
      " |   +-- AL-DM3(R)\n",
      " |   +-- AL-DM4(R)\n",
      " |   +-- AL-DM5(R)\n",
      " |   +-- AL-DM6(R)\n",
      " |   +-- AL-DP1l(R)\n",
      " |   +-- AL-DP1m(R)\n",
      " |   +-- AL-V(R)\n",
      " |   +-- AL-VA1d(R)\n",
      " |   +-- AL-VA1v(R)\n",
      " |   +-- AL-VA2(R)\n",
      " |   +-- AL-VA3(R)\n",
      " |   +-- AL-VA4(R)\n",
      " |   +-- AL-VA5(R)\n",
      " |   +-- AL-VA6(R)\n",
      " |   +-- AL-VA7l(R)\n",
      " |   +-- AL-VA7m(R)\n",
      " |   +-- AL-VC1(R)\n",
      " |   +-- AL-VC2(R)\n",
      " |   +-- AL-VC3l(R)\n",
      " |   +-- AL-VC3m(R)\n",
      " |   +-- AL-VC4(R)\n",
      " |   +-- AL-VC5(R)\n",
      " |   +-- AL-VL1(R)\n",
      " |   +-- AL-VL2a(R)\n",
      " |   +-- AL-VL2p(R)\n",
      " |   +-- AL-VM1(R)\n",
      " |   +-- AL-VM2(R)\n",
      " |   +-- AL-VM3(R)\n",
      " |   +-- AL-VM4(R)\n",
      " |   +-- AL-VM5d(R)\n",
      " |   +-- AL-VM5v(R)\n",
      " |   +-- AL-VM7d(R)\n",
      " |   +-- AL-VM7v(R)\n",
      " |   +-- AL-VP1d(R)\n",
      " |   +-- AL-VP1l(R)\n",
      " |   +-- AL-VP1m(R)\n",
      " |   +-- AL-VP2(R)\n",
      " |   +-- AL-VP3(R)\n",
      " |   +-- AL-VP4(R)\n",
      " |   +-- AL-VP5(R)\n",
      " +-- AOT(R)\n",
      " +-- CX\n",
      " |   +-- AB(L)\n",
      " |   +-- AB(R)\n",
      " |   +-- EB\n",
      " |   |   +-- EBr1\n",
      " |   |   +-- EBr2r4\n",
      " |   |   +-- EBr3am\n",
      " |   |   +-- EBr3d\n",
      " |   |   +-- EBr3pw\n",
      " |   |   +-- EBr5\n",
      " |   |   +-- EBr6\n",
      " |   +-- FB\n",
      " |   |   +-- FBl1\n",
      " |   |   +-- FBl2\n",
      " |   |   +-- FBl3\n",
      " |   |   +-- FBl4\n",
      " |   |   +-- FBl5\n",
      " |   |   +-- FBl6\n",
      " |   |   +-- FBl7\n",
      " |   |   +-- FBl8\n",
      " |   |   +-- FBl9\n",
      " |   +-- NO\n",
      " |   |   +-- NO(L)\n",
      " |   |   |   +-- NO1(L)\n",
      " |   |   |   +-- NO2(L)\n",
      " |   |   |   +-- NO3(L)\n",
      " |   |   +-- NO(R)\n",
      " |   |       +-- NO1(R)\n",
      " |   |       +-- NO2(R)\n",
      " |   |       +-- NO3(R)\n",
      " |   +-- PB\n",
      " |       +-- PB(L1)\n",
      " |       +-- PB(L2)\n",
      " |       +-- PB(L3)\n",
      " |       +-- PB(L4)\n",
      " |       +-- PB(L5)\n",
      " |       +-- PB(L6)\n",
      " |       +-- PB(L7)\n",
      " |       +-- PB(L8)\n",
      " |       +-- PB(L9)\n",
      " |       +-- PB(R1)\n",
      " |       +-- PB(R2)\n",
      " |       +-- PB(R3)\n",
      " |       +-- PB(R4)\n",
      " |       +-- PB(R5)\n",
      " |       +-- PB(R6)\n",
      " |       +-- PB(R7)\n",
      " |       +-- PB(R8)\n",
      " |       +-- PB(R9)\n",
      " +-- GC\n",
      " +-- GF(R)\n",
      " +-- GNG\n",
      " +-- INP\n",
      " |   +-- ATL(L)\n",
      " |   +-- ATL(R)\n",
      " |   +-- CRE(L)\n",
      " |   |   +-- CRE(-RUB)(L)\n",
      " |   |   +-- RUB(L)\n",
      " |   +-- CRE(R)\n",
      " |   |   +-- CRE(-ROB,-RUB)(R)\n",
      " |   |   +-- ROB(R)\n",
      " |   |   +-- RUB(R)\n",
      " |   +-- IB\n",
      " |   +-- ICL(L)\n",
      " |   +-- ICL(R)\n",
      " |   +-- SCL(L)\n",
      " |   +-- SCL(R)\n",
      " +-- LH(R)\n",
      " +-- LX(L)\n",
      " |   +-- BU(L)\n",
      " |   +-- LAL(L)\n",
      " +-- LX(R)\n",
      " |   +-- BU(R)\n",
      " |   +-- LAL(R)\n",
      " |       +-- GA(R)\n",
      " |       +-- LAL(-GA)(R)\n",
      " +-- MB(+ACA)(R)\n",
      " |   +-- MB(R)\n",
      " |   |   +-- CA(R)\n",
      " |   |   +-- PED(R)\n",
      " |   |   +-- a'L(R)\n",
      " |   |   |   +-- a'1(R)\n",
      " |   |   |   +-- a'2(R)\n",
      " |   |   |   +-- a'3(R)\n",
      " |   |   +-- aL(R)\n",
      " |   |   |   +-- a1(R)\n",
      " |   |   |   +-- a2(R)\n",
      " |   |   |   +-- a3(R)\n",
      " |   |   +-- b'L(R)\n",
      " |   |   |   +-- b'1(R)\n",
      " |   |   |   +-- b'2(R)\n",
      " |   |   +-- bL(R)\n",
      " |   |   |   +-- b1(R)\n",
      " |   |   |   +-- b2(R)\n",
      " |   |   +-- gL(R)\n",
      " |   |       +-- g1(R)\n",
      " |   |       +-- g2(R)\n",
      " |   |       +-- g3(R)\n",
      " |   |       +-- g4(R)\n",
      " |   |       +-- g5(R)\n",
      " |   +-- dACA(R)\n",
      " |   +-- lACA(R)\n",
      " |   +-- vACA(R)\n",
      " +-- MB(L)\n",
      " |   +-- CA(L)\n",
      " |   +-- a'L(L)\n",
      " |   +-- aL(L)\n",
      " |   +-- b'L(L)\n",
      " |   +-- bL(L)\n",
      " |   +-- gL(L)\n",
      " +-- OL(R)\n",
      " |   +-- AME(R)\n",
      " |   +-- LO(R)\n",
      " |   +-- LOP(R)\n",
      " |   +-- ME(R)\n",
      " +-- PENP\n",
      " |   +-- CAN(R)\n",
      " |   +-- FLA(R)\n",
      " |   +-- PRW\n",
      " |   +-- SAD\n",
      " |       +-- AMMC\n",
      " |       +-- SAD(-AMMC)\n",
      " +-- POC\n",
      " +-- SNP(L)\n",
      " |   +-- SIP(L)\n",
      " |   +-- SMP(L)\n",
      " +-- SNP(R)\n",
      " |   +-- SIP(R)\n",
      " |   +-- SLP(R)\n",
      " |   +-- SMP(R)\n",
      " +-- VLNP(R)\n",
      " |   +-- AOTU(R)\n",
      " |   +-- AVLP(R)\n",
      " |   +-- PLP(R)\n",
      " |   +-- PVLP(R)\n",
      " |   +-- WED(R)\n",
      " +-- VMNP\n",
      " |   +-- EPA(L)\n",
      " |   +-- EPA(R)\n",
      " |   +-- GOR(L)\n",
      " |   +-- GOR(R)\n",
      " |   +-- IPS(R)\n",
      " |   +-- SPS(L)\n",
      " |   +-- SPS(R)\n",
      " |   +-- VES(L)\n",
      " |   +-- VES(R)\n",
      " +-- mALT(L)\n",
      " +-- mALT(R)\n"
     ]
    }
   ],
   "source": [
    "print(fetch_roi_hierarchy(mark_primary=False,include_subprimary=True,format='text'))"
   ]
  },
  {
   "cell_type": "code",
   "execution_count": 8,
   "metadata": {},
   "outputs": [
    {
     "ename": "NameError",
     "evalue": "name 'df' is not defined",
     "output_type": "error",
     "traceback": [
      "\u001b[0;31m---------------------------------------------------------------------------\u001b[0m",
      "\u001b[0;31mNameError\u001b[0m                                 Traceback (most recent call last)",
      "\u001b[0;32m<ipython-input-8-2620f1214967>\u001b[0m in \u001b[0;36m<module>\u001b[0;34m\u001b[0m\n\u001b[1;32m     13\u001b[0m         \u001b[0;32mreturn\u001b[0m \u001b[0mroi\u001b[0m\u001b[0;34m\u001b[0m\u001b[0;34m\u001b[0m\u001b[0m\n\u001b[1;32m     14\u001b[0m \u001b[0;34m\u001b[0m\u001b[0m\n\u001b[0;32m---> 15\u001b[0;31m \u001b[0mdf\u001b[0m\u001b[0;34m[\u001b[0m\u001b[0;34m'main_roi'\u001b[0m\u001b[0;34m]\u001b[0m \u001b[0;34m=\u001b[0m \u001b[0mdf\u001b[0m\u001b[0;34m[\u001b[0m\u001b[0;34m'roi'\u001b[0m\u001b[0;34m]\u001b[0m\u001b[0;34m.\u001b[0m\u001b[0mapply\u001b[0m\u001b[0;34m(\u001b[0m\u001b[0mfunc\u001b[0m\u001b[0;34m=\u001b[0m\u001b[0mfind_main_roi\u001b[0m\u001b[0;34m)\u001b[0m\u001b[0;34m\u001b[0m\u001b[0;34m\u001b[0m\u001b[0m\n\u001b[0m",
      "\u001b[0;31mNameError\u001b[0m: name 'df' is not defined"
     ]
    }
   ],
   "source": [
    "#establish relation roi -> main_roi\n",
    "\n",
    "from neuprint import Client,fetch_roi_hierarchy\n",
    "\n",
    "c = Client('neuprint.janelia.org', 'hemibrain:v1.1')\n",
    "g = fetch_roi_hierarchy(mark_primary=False,include_subprimary=True,format='nx')\n",
    "\n",
    "def find_main_roi(roi):\n",
    "    pred = list(g.predecessors(roi))[0]\n",
    "    if pred!='hemibrain':\n",
    "        return find_main_roi(pred)\n",
    "    else:\n",
    "        return roi\n",
    "\n",
    "df['main_roi'] = df['roi'].apply(func=find_main_roi)"
   ]
  },
  {
   "cell_type": "code",
   "execution_count": 9,
   "metadata": {},
   "outputs": [
    {
     "data": {
      "text/plain": [
       "<networkx.classes.digraph.DiGraph at 0x7fb5a98315f8>"
      ]
     },
     "execution_count": 9,
     "metadata": {},
     "output_type": "execute_result"
    }
   ],
   "source": [
    "g"
   ]
  },
  {
   "cell_type": "code",
   "execution_count": 7,
   "metadata": {},
   "outputs": [],
   "source": [
    "A0 = 1*(A>0)"
   ]
  },
  {
   "cell_type": "code",
   "execution_count": null,
   "metadata": {},
   "outputs": [],
   "source": []
  },
  {
   "cell_type": "code",
   "execution_count": 8,
   "metadata": {},
   "outputs": [
    {
     "data": {
      "text/plain": [
       "<matplotlib.image.AxesImage at 0x7f528cf2ca20>"
      ]
     },
     "execution_count": 8,
     "metadata": {},
     "output_type": "execute_result"
    },
    {
     "data": {
      "image/png": "[encoded data removed]",
      "text/plain": [
       "<Figure size 432x288 with 1 Axes>"
      ]
     },
     "metadata": {
      "needs_background": "light"
     },
     "output_type": "display_data"
    }
   ],
   "source": [
    "plt.imshow(A0)"
   ]
  }
 ],
 "metadata": {
  "kernelspec": {
   "display_name": "Python 3",
   "language": "python",
   "name": "python3"
  },
  "language_info": {
   "codemirror_mode": {
    "name": "ipython",
    "version": 3
   },
   "file_extension": ".py",
   "mimetype": "text/x-python",
   "name": "python",
   "nbconvert_exporter": "python",
   "pygments_lexer": "ipython3",
   "version": "3.7.3"
  }
 },
 "nbformat": 4,
 "nbformat_minor": 2
}
