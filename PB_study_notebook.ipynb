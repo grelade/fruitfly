{
 "cells": [
  {
   "cell_type": "code",
   "execution_count": 72,
   "metadata": {},
   "outputs": [],
   "source": [
    "import pandas as pd\n",
    "import numpy as np\n",
    "import matplotlib.pyplot as plt\n",
    "import sys\n",
    "import os\n",
    "import networkx as nx\n",
    "from itertools import product\n",
    "\n",
    "from neuprint import Client,fetch_roi_hierarchy\n",
    "\n",
    "from config import conf\n",
    "from dataset_utils import fetch_adjacency, fetch_rois_from_metadata, fetch_rois_from_df, fetch_primary_roi_datasets\n",
    "from basic_metrics import indegree_mean,outdegree_mean\n",
    "from utils import find_component_data\n",
    "from CX_utils import restrict_th,n_comp,n_scomp,comp_sizes,scomp_sizes\n",
    "\n",
    "from fh import flow_hierarchy\n",
    "from utils import conn2adj\n",
    "\n",
    "#RJ code\n",
    "sys.path.append('recurrence/prepare')\n",
    "from optimize_ordering import optimize,compute_score\n"
   ]
  },
  {
   "cell_type": "code",
   "execution_count": 2,
   "metadata": {},
   "outputs": [],
   "source": [
    "c = Client(conf.neuprint_URL, conf.dataset_version)\n"
   ]
  },
  {
   "cell_type": "code",
   "execution_count": 3,
   "metadata": {},
   "outputs": [
    {
     "name": "stdout",
     "output_type": "stream",
     "text": [
      "dataset in adjpath= datasets/noncropped_traced_PB(L1).PB(L2).PB(L3).PB(L4).PB(L5).PB(L6).PB(L7).PB(L8).PB(L9).PB(R1).PB(R2).PB(R3).PB(R4).PB(R5).PB(R6).PB(R7).PB(R8).PB(R9)\n",
      "dataset already downloaded\n",
      "dataset in adjpath= datasets/noncropped_traced_PB\n",
      "dataset already downloaded\n",
      "dataset in adjpath= datasets/noncropped_traced\n",
      "dataset already downloaded\n"
     ]
    }
   ],
   "source": [
    "rois = ['PB(L1)','PB(L2)','PB(L3)','PB(L4)','PB(L5)','PB(L6)','PB(L7)','PB(L8)','PB(L9)',\n",
    "        'PB(R1)','PB(R2)','PB(R3)','PB(R4)','PB(R5)','PB(R6)','PB(R7)','PB(R8)','PB(R9)']\n",
    "\n",
    "n_sum,conn_sum = fetch_adjacency(rois=rois,include_nonprimary=True)\n",
    "n_0,conn_0 = fetch_adjacency(rois=['PB'],include_nonprimary=True)\n",
    "#n_total,conn_total = fetch_adjacency(rois=[],include_nonprimary=False)\n",
    "n_total,conn_total = fetch_adjacency(adjpath='datasets/noncropped_traced')"
   ]
  },
  {
   "cell_type": "markdown",
   "metadata": {},
   "source": [
    "<h3>PB / split into DAG and recur based on th</h3>"
   ]
  },
  {
   "cell_type": "code",
   "execution_count": 235,
   "metadata": {},
   "outputs": [],
   "source": [
    "#split into recur/DAG based on th=45\n",
    "n_list0,adj0 = conn2adj(conn_sum)\n",
    "mask_recur = ((adj0>5)*1)*((adj0<=45)*1)\n",
    "mask_DAG = ((adj0>45)*1)\n",
    "\n",
    "perm_DAG = optimize(adj0*mask_DAG,seed=0,verbose=False)\n"
   ]
  },
  {
   "cell_type": "code",
   "execution_count": 237,
   "metadata": {},
   "outputs": [
    {
     "data": {
      "text/plain": [
       "(0.39297827930337226, 0.0061417431509212615)"
      ]
     },
     "execution_count": 237,
     "metadata": {},
     "output_type": "execute_result"
    }
   ],
   "source": [
    "#recurrence checks\n",
    "compute_score((adj0*mask_recur)[perm_DAG,:][:,perm_DAG]),compute_score((adj0*mask_DAG)[perm_DAG,:][:,perm_DAG])"
   ]
  },
  {
   "cell_type": "code",
   "execution_count": 242,
   "metadata": {},
   "outputs": [
    {
     "data": {
      "image/png": "[encoded data removed]",
      "text/plain": [
       "<Figure size 720x360 with 2 Axes>"
      ]
     },
     "metadata": {
      "needs_background": "light"
     },
     "output_type": "display_data"
    }
   ],
   "source": [
    "fig,axs = plt.subplots(ncols=2,nrows=1,figsize=(10,5))\n",
    "\n",
    "axs[0].imshow(((adj0*mask_DAG)[perm_DAG,:][:,perm_DAG])>0*1,cmap='gray')\n",
    "axs[0].set_title('DAG part')\n",
    "axs[1].imshow(((adj0*mask_recur)[perm_DAG,:][:,perm_DAG])>0*1,cmap='gray')\n",
    "axs[1].set_title('recur part')\n",
    "plt.show()"
   ]
  },
  {
   "cell_type": "code",
   "execution_count": 287,
   "metadata": {},
   "outputs": [],
   "source": [
    "#compare ordering from th with anatomical ordering\n",
    "\n",
    "neurons_ordered = {}\n",
    "neuron_bag = set()\n",
    "neurons_ordered_a = []\n",
    "for roi in rois_ordered:\n",
    "    n = neurons(conn_sum[conn_sum['roi']==roi])    \n",
    "    neurons_ordered[roi] = set.difference(n,neuron_bag)\n",
    "    neurons_ordered_a += list(set.difference(n,neuron_bag))\n",
    "    neuron_bag = set.union(n,neuron_bag)\n",
    "    \n",
    "neurons_ordered_b = n_list0[perm_DAG]"
   ]
  },
  {
   "cell_type": "code",
   "execution_count": 345,
   "metadata": {},
   "outputs": [],
   "source": [
    "#split into recur/DAG based on th=45\n",
    "n_list0,adj0 = conn2adj(conn_sum)\n",
    "\n",
    "perm_tot = optimize(adj0,seed=0,verbose=False)\n"
   ]
  },
  {
   "cell_type": "code",
   "execution_count": 346,
   "metadata": {},
   "outputs": [],
   "source": [
    "neurons_ordered_c = n_list0[perm_tot]"
   ]
  },
  {
   "cell_type": "code",
   "execution_count": 347,
   "metadata": {},
   "outputs": [
    {
     "data": {
      "text/plain": [
       "(779, 779, 779)"
      ]
     },
     "execution_count": 347,
     "metadata": {},
     "output_type": "execute_result"
    }
   ],
   "source": [
    "len(neurons_ordered_a),len(neurons_ordered_b),len(neurons_ordered_c)"
   ]
  },
  {
   "cell_type": "code",
   "execution_count": 348,
   "metadata": {},
   "outputs": [
    {
     "data": {
      "image/png": "[encoded data removed]",
      "text/plain": [
       "<Figure size 432x288 with 1 Axes>"
      ]
     },
     "metadata": {
      "needs_background": "light"
     },
     "output_type": "display_data"
    }
   ],
   "source": [
    "g = nx.Graph()\n",
    "for na,nb in zip(neurons_ordered_a,neurons_ordered_b):\n",
    "    g.add_edge(na,nb)\n",
    "plt.imshow(nx.adjacency_matrix(g).todense(),cmap='gray')\n",
    "plt.show()"
   ]
  },
  {
   "cell_type": "code",
   "execution_count": 351,
   "metadata": {},
   "outputs": [
    {
     "data": {
      "image/png": "[encoded data removed]",
      "text/plain": [
       "<Figure size 432x288 with 1 Axes>"
      ]
     },
     "metadata": {
      "needs_background": "light"
     },
     "output_type": "display_data"
    }
   ],
   "source": [
    "g = nx.Graph()\n",
    "for na,nc in zip(neurons_ordered_a,neurons_ordered_c):\n",
    "    g.add_edge(na,nc)\n",
    "plt.imshow(nx.adjacency_matrix(g).todense(),cmap='gray')\n",
    "plt.show()"
   ]
  },
  {
   "cell_type": "code",
   "execution_count": 352,
   "metadata": {},
   "outputs": [
    {
     "data": {
      "image/png": "[encoded data removed]",
      "text/plain": [
       "<Figure size 432x288 with 1 Axes>"
      ]
     },
     "metadata": {
      "needs_background": "light"
     },
     "output_type": "display_data"
    }
   ],
   "source": [
    "g = nx.Graph()\n",
    "for na,nc in zip(neurons_ordered_b,neurons_ordered_c):\n",
    "    g.add_edge(na,nc)\n",
    "plt.imshow(nx.adjacency_matrix(g).todense(),cmap='gray')\n",
    "plt.show()"
   ]
  },
  {
   "cell_type": "code",
   "execution_count": 334,
   "metadata": {
    "scrolled": true
   },
   "outputs": [],
   "source": [
    "rois_ordered = ['PB(L1)','PB(L2)','PB(L3)','PB(L4)','PB(L5)','PB(L6)','PB(L7)','PB(L8)','PB(L9)'][::-1]+['PB(R1)','PB(R2)','PB(R3)','PB(R4)','PB(R5)','PB(R6)','PB(R7)','PB(R8)','PB(R9)']\n",
    "\n",
    "# th=200\n",
    "# th_max=th\n",
    "# th_min=45\n",
    "\n",
    "def dice(n1,n2):\n",
    "    n1 = set(n1)\n",
    "    n2 = set(n2)\n",
    "    return 2*len(set.intersection(n1,n2))/(len(n1)+len(n2))\n",
    "\n",
    "def restrict_conn(conn,th_min,th_max):\n",
    "    return conn[(conn['weight']>=th_min) & (th_max>conn_sum['weight'])]\n",
    "\n",
    "def neurons(conn):\n",
    "    return set(np.concatenate([conn[['bodyId_pre']].values,conn[['bodyId_post']].values]).reshape(-1))\n",
    "\n",
    "def calc_dice(conn,rois):\n",
    "    #conn_sum0 = conn_sum[(conn_sum['weight']==11)]\n",
    "    neurs = []\n",
    "    for roi in rois:\n",
    "\n",
    "        c1 = conn[conn['roi']==roi]\n",
    "        n1 = neurons(c1)\n",
    "        neurs += [n1]\n",
    "        #print(roi,'neuros='+str(len(n1)),'synapses='+str(c1.shape[0]))\n",
    "    \n",
    "    dice_mat = np.zeros(shape=(len(rois),len(rois)))\n",
    "    for i,j in product(range(len(rois)),range(len(rois))):\n",
    "        dice_mat[i,j] = dice(neurs[i],neurs[j])\n",
    "    return dice_mat\n",
    "\n"
   ]
  },
  {
   "cell_type": "code",
   "execution_count": 344,
   "metadata": {},
   "outputs": [
    {
     "data": {
      "image/png": "[encoded data removed]",
      "text/plain": [
       "<Figure size 360x360 with 1 Axes>"
      ]
     },
     "metadata": {
      "needs_background": "light"
     },
     "output_type": "display_data"
    }
   ],
   "source": [
    "conn_sum0 = restrict_conn(conn_sum,th_min=5,th_max=10000)\n",
    "\n",
    "dice0 = calc_dice(conn=conn_sum0,rois=rois_ordered)\n",
    "\n",
    "\n",
    "fig,axs = plt.subplots(figsize=(5,5))\n",
    "\n",
    "ax=axs\n",
    "ax.imshow(dice0,cmap='gray')\n",
    "ax.set_yticks([i for i in range(len(rois_ordered))])\n",
    "ax.set_xticks([i for i in range(len(rois_ordered))])\n",
    "ax.set_yticklabels(labels=rois_ordered)\n",
    "ax.set_xticklabels(labels=rois_ordered)\n",
    "plt.setp(ax.get_xticklabels(), rotation=90, ha=\"right\",rotation_mode=\"anchor\")\n",
    "\n",
    "\n",
    "plt.show()"
   ]
  },
  {
   "cell_type": "code",
   "execution_count": 335,
   "metadata": {},
   "outputs": [
    {
     "data": {
      "image/png": "[encoded data removed]",
      "text/plain": [
       "<Figure size 720x360 with 2 Axes>"
      ]
     },
     "metadata": {
      "needs_background": "light"
     },
     "output_type": "display_data"
    }
   ],
   "source": [
    "conn_sum0 = restrict_conn(conn_sum,th_min=5,th_max=45)\n",
    "conn_sum1 = restrict_conn(conn_sum,th_min=45,th_max=10000)\n",
    "\n",
    "dice0 = calc_dice(conn=conn_sum0,rois=rois_ordered)\n",
    "dice1 = calc_dice(conn=conn_sum1,rois=rois_ordered)\n",
    "\n",
    "\n",
    "fig,axs = plt.subplots(ncols=2,figsize=(10,5))\n",
    "\n",
    "ax=axs[0]\n",
    "ax.imshow(dice0,cmap='gray')\n",
    "ax.set_yticks([i for i in range(len(rois_ordered))])\n",
    "ax.set_xticks([i for i in range(len(rois_ordered))])\n",
    "ax.set_yticklabels(labels=rois_ordered)\n",
    "ax.set_xticklabels(labels=rois_ordered)\n",
    "plt.setp(ax.get_xticklabels(), rotation=90, ha=\"right\",rotation_mode=\"anchor\")\n",
    "\n",
    "ax=axs[1]\n",
    "ax.imshow(dice1,cmap='gray')\n",
    "ax.set_yticks([i for i in range(len(rois_ordered))])\n",
    "ax.set_xticks([i for i in range(len(rois_ordered))])\n",
    "ax.set_yticklabels(labels=rois_ordered)\n",
    "ax.set_xticklabels(labels=rois_ordered)\n",
    "plt.setp(ax.get_xticklabels(), rotation=90, ha=\"right\",rotation_mode=\"anchor\")\n",
    "\n",
    "\n",
    "plt.show()"
   ]
  },
  {
   "cell_type": "code",
   "execution_count": 172,
   "metadata": {},
   "outputs": [
    {
     "data": {
      "text/plain": [
       "((10018, 4), (610, 4))"
      ]
     },
     "execution_count": 172,
     "metadata": {},
     "output_type": "execute_result"
    }
   ],
   "source": [
    "conn_sum0.shape,conn_sum1.shape"
   ]
  },
  {
   "cell_type": "code",
   "execution_count": 176,
   "metadata": {},
   "outputs": [
    {
     "data": {
      "text/plain": [
       "(132459, 39347)"
      ]
     },
     "execution_count": 176,
     "metadata": {},
     "output_type": "execute_result"
    }
   ],
   "source": [
    "conn_sum0['weight'].sum(),conn_sum1['weight'].sum()"
   ]
  },
  {
   "cell_type": "code",
   "execution_count": 234,
   "metadata": {},
   "outputs": [
    {
     "data": {
      "text/plain": [
       "0.5688259109311741"
      ]
     },
     "execution_count": 234,
     "metadata": {},
     "output_type": "execute_result"
    }
   ],
   "source": [
    "n1 = neurons(conn_sum0)\n",
    "n2 = neurons(conn_sum1)\n",
    "dice(n1,n2)"
   ]
  },
  {
   "cell_type": "code",
   "execution_count": 232,
   "metadata": {},
   "outputs": [
    {
     "name": "stdout",
     "output_type": "stream",
     "text": [
      "281 707\n",
      "297 710\n"
     ]
    }
   ],
   "source": [
    "print(len(n2),len(n1))\n",
    "print(len(neurons(conn_sum.sample(frac=0.012))),len(neurons(conn_sum.sample(frac=0.15))))\n"
   ]
  },
  {
   "cell_type": "code",
   "execution_count": 233,
   "metadata": {},
   "outputs": [
    {
     "data": {
      "text/plain": [
       "0.5581395348837209"
      ]
     },
     "execution_count": 233,
     "metadata": {},
     "output_type": "execute_result"
    }
   ],
   "source": [
    "dice(neurons(conn_sum.sample(frac=0.012)),neurons(conn_sum.sample(frac=0.15)))"
   ]
  },
  {
   "cell_type": "markdown",
   "metadata": {},
   "source": [
    "<h3>PB / intraconnections </h3>"
   ]
  },
  {
   "cell_type": "code",
   "execution_count": 168,
   "metadata": {},
   "outputs": [
    {
     "name": "stdout",
     "output_type": "stream",
     "text": [
      "0\n",
      "500\n"
     ]
    }
   ],
   "source": [
    "#inspect all PB interconnections between regions\n",
    "c_restr = restrict_conn(conn=conn_sum,th_min=5,th_max=10000)\n",
    "n_restr = set(np.concatenate([c_restr[['bodyId_pre']].values,c_restr[['bodyId_post']].values]).reshape(-1))\n",
    "\n",
    "szs = []\n",
    "for i,neur in enumerate(n_restr):\n",
    "    if i%500==0: print(i)\n",
    "    t = c[(c['bodyId_pre']==neur) | (c['bodyId_post']==neur)][['roi','weight']].groupby('roi').sum()\n",
    "    szs += [t.shape[0]]"
   ]
  },
  {
   "cell_type": "code",
   "execution_count": 169,
   "metadata": {},
   "outputs": [
    {
     "data": {
      "image/png": "[encoded data removed]",
      "text/plain": [
       "<Figure size 432x288 with 1 Axes>"
      ]
     },
     "metadata": {
      "needs_background": "light"
     },
     "output_type": "display_data"
    }
   ],
   "source": [
    "d = pd.Series(szs).value_counts()\n",
    "plt.bar(d.index,d.values)\n",
    "plt.xticks([i for i in range(max(d.index)+1)])\n",
    "plt.title('localization of neurons')\n",
    "plt.ylabel('#neurons')\n",
    "plt.xlabel('connected rois')\n",
    "plt.show()"
   ]
  },
  {
   "cell_type": "code",
   "execution_count": 156,
   "metadata": {},
   "outputs": [
    {
     "name": "stdout",
     "output_type": "stream",
     "text": [
      "0\n",
      "500\n"
     ]
    }
   ],
   "source": [
    "#inspect small PB interconnections between regions\n",
    "c_restr = restrict_conn(conn=conn_sum,th_min=5,th_max=45)\n",
    "n_restr = set(np.concatenate([c_restr[['bodyId_pre']].values,c_restr[['bodyId_post']].values]).reshape(-1))\n",
    "\n",
    "szs = []\n",
    "for i,neur in enumerate(n_restr):\n",
    "    if i%500==0: print(i)\n",
    "    t = c[(c['bodyId_pre']==neur) | (c['bodyId_post']==neur)][['roi','weight']].groupby('roi').sum()\n",
    "    szs += [t.shape[0]]"
   ]
  },
  {
   "cell_type": "code",
   "execution_count": 161,
   "metadata": {},
   "outputs": [
    {
     "data": {
      "image/png": "[encoded data removed]",
      "text/plain": [
       "<Figure size 432x288 with 1 Axes>"
      ]
     },
     "metadata": {
      "needs_background": "light"
     },
     "output_type": "display_data"
    }
   ],
   "source": [
    "d = pd.Series(szs).value_counts()\n",
    "plt.bar(d.index,d.values)\n",
    "plt.xticks([i for i in range(max(d.index)+1)])\n",
    "plt.title('localization of neurons')\n",
    "plt.ylabel('#neurons')\n",
    "plt.xlabel('connected rois')\n",
    "plt.show()"
   ]
  },
  {
   "cell_type": "code",
   "execution_count": 116,
   "metadata": {},
   "outputs": [
    {
     "name": "stdout",
     "output_type": "stream",
     "text": [
      "0\n"
     ]
    }
   ],
   "source": [
    "#inspect large PB interconnections between regions\n",
    "c_restr = restrict_conn(conn=conn_sum,th_min=45,th_max=10000)\n",
    "n_restr = set(np.concatenate([c_restr[['bodyId_pre']].values,c_restr[['bodyId_post']].values]).reshape(-1))\n",
    "\n",
    "szs = []\n",
    "for i,neur in enumerate(n_restr):\n",
    "    if i%500==0: print(i)\n",
    "\n",
    "    t = c[(c['bodyId_pre']==neur) | (c['bodyId_post']==neur)][['roi','weight']].groupby('roi').sum()\n",
    "    szs += [t.shape[0]]"
   ]
  },
  {
   "cell_type": "code",
   "execution_count": 155,
   "metadata": {},
   "outputs": [
    {
     "data": {
      "image/png": "[encoded data removed]",
      "text/plain": [
       "<Figure size 432x288 with 1 Axes>"
      ]
     },
     "metadata": {
      "needs_background": "light"
     },
     "output_type": "display_data"
    }
   ],
   "source": [
    "d = pd.Series(szs).value_counts()\n",
    "plt.bar(d.index,d.values)\n",
    "plt.xticks([i for i in range(max(d.index)+1)])\n",
    "plt.title('how variable are neuron interconnections')\n",
    "plt.ylabel('#neurons')\n",
    "plt.xlabel('connected rois')\n",
    "plt.show()"
   ]
  },
  {
   "cell_type": "markdown",
   "metadata": {},
   "source": [
    "<h3>other</h3>"
   ]
  },
  {
   "cell_type": "code",
   "execution_count": 58,
   "metadata": {},
   "outputs": [
    {
     "name": "stdout",
     "output_type": "stream",
     "text": [
      "dataset in adjpath= datasets/noncropped_traced_PB(L1).PB(L2).PB(L3).PB(L4).PB(L5).PB(L6).PB(L7).PB(L8).PB(L9).PB(R1).PB(R2).PB(R3).PB(R4).PB(R5).PB(R6).PB(R7).PB(R8).PB(R9)\n",
      "dataset already downloaded\n",
      "dataset in adjpath= datasets/noncropped_traced_PB\n",
      "dataset already downloaded\n",
      "dataset in adjpath= datasets/noncropped_traced\n",
      "dataset already downloaded\n"
     ]
    }
   ],
   "source": [
    "rois = ['PB(L1)','PB(L2)','PB(L3)','PB(L4)','PB(L5)','PB(L6)','PB(L7)','PB(L8)','PB(L9)',\n",
    "        'PB(R1)','PB(R2)','PB(R3)','PB(R4)','PB(R5)','PB(R6)','PB(R7)','PB(R8)','PB(R9)']\n",
    "rois_ordered = ['PB(L1)','PB(L2)','PB(L3)','PB(L4)','PB(L5)','PB(L6)','PB(L7)','PB(L8)','PB(L9)'][::-1]+['PB(R1)','PB(R2)','PB(R3)','PB(R4)','PB(R5)','PB(R6)','PB(R7)','PB(R8)','PB(R9)']\n",
    "\n",
    "n_sum,conn_sum = fetch_adjacency(rois=rois,include_nonprimary=True)\n",
    "n_0,conn_0 = fetch_adjacency(rois=['PB'],include_nonprimary=True)\n",
    "#n_total,conn_total = fetch_adjacency(rois=[],include_nonprimary=False)\n",
    "n_total,conn_total = fetch_adjacency(adjpath='datasets/noncropped_traced')"
   ]
  },
  {
   "cell_type": "code",
   "execution_count": 73,
   "metadata": {},
   "outputs": [
    {
     "data": {
      "text/plain": [
       "((21026, 4), (31353, 4))"
      ]
     },
     "execution_count": 73,
     "metadata": {},
     "output_type": "execute_result"
    }
   ],
   "source": [
    "conn_0.shape,conn_sum.shape"
   ]
  },
  {
   "cell_type": "code",
   "execution_count": 100,
   "metadata": {},
   "outputs": [],
   "source": [
    "x = pd.merge(conn_total[['bodyId_pre','bodyId_post','weight']],conn_0[['bodyId_pre','bodyId_post','weight']],how='inner')"
   ]
  },
  {
   "cell_type": "code",
   "execution_count": 87,
   "metadata": {},
   "outputs": [
    {
     "data": {
      "text/plain": [
       "(52379, 3)"
      ]
     },
     "execution_count": 87,
     "metadata": {},
     "output_type": "execute_result"
    }
   ],
   "source": [
    "pd.concat([\n",
    "    conn_0[['bodyId_pre','bodyId_post','weight']],conn_sum[['bodyId_pre','bodyId_post','weight']]\n",
    "],ignore_index=True,join='inner').drop_duplicates().reset_index(drop=True).shape\n"
   ]
  },
  {
   "cell_type": "code",
   "execution_count": 106,
   "metadata": {},
   "outputs": [],
   "source": [
    "x = pd.merge(conn_sum[['bodyId_pre','bodyId_post','weight']],conn_0[['bodyId_pre','bodyId_post','weight']],how='inner')"
   ]
  },
  {
   "cell_type": "code",
   "execution_count": 68,
   "metadata": {},
   "outputs": [
    {
     "data": {
      "text/plain": [
       "(1, 1)"
      ]
     },
     "execution_count": 68,
     "metadata": {},
     "output_type": "execute_result"
    }
   ],
   "source": [
    "conn = conn_sum\n",
    "n_comp(conn[(conn['weight']<=45) & (conn['weight']>5)]),n_comp(conn[(conn['weight']>45)])\n"
   ]
  },
  {
   "cell_type": "code",
   "execution_count": 69,
   "metadata": {},
   "outputs": [
    {
     "data": {
      "text/plain": [
       "(1, 1)"
      ]
     },
     "execution_count": 69,
     "metadata": {},
     "output_type": "execute_result"
    }
   ],
   "source": [
    "conn = conn_0\n",
    "n_comp(conn[(conn['weight']<=45) & (conn['weight']>5)]),n_comp(conn[(conn['weight']>45)])"
   ]
  },
  {
   "cell_type": "code",
   "execution_count": 40,
   "metadata": {},
   "outputs": [],
   "source": []
  },
  {
   "cell_type": "code",
   "execution_count": 45,
   "metadata": {},
   "outputs": [],
   "source": []
  },
  {
   "cell_type": "code",
   "execution_count": 44,
   "metadata": {},
   "outputs": [],
   "source": []
  },
  {
   "cell_type": "code",
   "execution_count": 47,
   "metadata": {},
   "outputs": [
    {
     "data": {
      "text/plain": [
       "array([[0., 0., 0., ..., 0., 0., 0.],\n",
       "       [0., 0., 0., ..., 0., 0., 0.],\n",
       "       [0., 0., 0., ..., 0., 0., 0.],\n",
       "       ...,\n",
       "       [0., 0., 0., ..., 0., 0., 0.],\n",
       "       [0., 0., 0., ..., 0., 0., 0.],\n",
       "       [0., 0., 0., ..., 0., 0., 0.]])"
      ]
     },
     "execution_count": 47,
     "metadata": {},
     "output_type": "execute_result"
    }
   ],
   "source": [
    "adj0*mask_DAG"
   ]
  },
  {
   "cell_type": "code",
   "execution_count": 48,
   "metadata": {
    "scrolled": true
   },
   "outputs": [
    {
     "name": "stdout",
     "output_type": "stream",
     "text": [
      "initial score 0.5985094196397764\n",
      "score after random permutations 0.37354219860603133\n",
      "1 1 0.3638120212545718\n",
      "10 8 0.35366779380305013\n",
      "28 17 0.3459388586018908\n",
      "30 1 0.34255744945138356\n",
      "35 4 0.3321371885998205\n",
      "37 1 0.321233869298185\n",
      "52 14 0.3170933682975639\n",
      "58 5 0.2903181284935476\n",
      "65 6 0.2870057276930507\n",
      "91 25 0.2690635566903594\n",
      "95 3 0.2652680974397901\n",
      "100 4 0.26133462148920006\n",
      "102 1 0.257194120488579\n",
      "104 1 0.2434614588365191\n",
      "141 36 0.23994203298599118\n",
      "156 14 0.23669864053550466\n",
      "160 3 0.22924573873438672\n",
      "198 37 0.22358705403353793\n",
      "231 32 0.21785936098267877\n",
      "282 50 0.21295976813194384\n",
      "298 15 0.18915188737837266\n",
      "314 15 0.1712787247256917\n",
      "323 8 0.1585121799737767\n",
      "331 7 0.15464771237319702\n",
      "345 13 0.14912704437236893\n",
      "392 46 0.1446415016216961\n",
      "406 13 0.13677454972051606\n",
      "427 20 0.13235801531985358\n",
      "430 2 0.12331792146849757\n",
      "435 4 0.12007452901801106\n",
      "495 59 0.10875715961631346\n",
      "583 87 0.10551376716582696\n",
      "655 71 0.10151128286522658\n",
      "691 35 0.09806086536470901\n",
      "698 6 0.09302325581395336\n",
      "701 2 0.0897108550134565\n",
      "705 3 0.0814988613622247\n",
      "768 62 0.07528810986129308\n",
      "863 94 0.07163066731074447\n",
      "871 7 0.0677661997101648\n",
      "970 98 0.06383272375957479\n",
      "1012 41 0.058864122558829494\n",
      "1035 22 0.046097577806914515\n",
      "1167 131 0.03526326685528937\n",
      "1235 67 0.031329790904699346\n",
      "1568 332 0.028017390104202487\n",
      "1577 8 0.024566972603684924\n",
      "1611 33 0.021254571803188065\n",
      "1861 249 0.018011179352701558\n",
      "2203 341 0.014767786902215049\n",
      "2308 104 0.01152439445172854\n",
      "2650 341 0.006141743150921143\n",
      "\n",
      "optimized score 0.006141743150921143 in 3651 steps. time: 16.76016902923584\n",
      "cross check     0.0061417431509212615\n"
     ]
    }
   ],
   "source": []
  },
  {
   "cell_type": "code",
   "execution_count": 52,
   "metadata": {},
   "outputs": [
    {
     "data": {
      "text/plain": [
       "0.39297827930337226"
      ]
     },
     "execution_count": 52,
     "metadata": {},
     "output_type": "execute_result"
    }
   ],
   "source": []
  },
  {
   "cell_type": "code",
   "execution_count": 53,
   "metadata": {},
   "outputs": [
    {
     "data": {
      "text/plain": [
       "0.0061417431509212615"
      ]
     },
     "execution_count": 53,
     "metadata": {},
     "output_type": "execute_result"
    }
   ],
   "source": []
  },
  {
   "cell_type": "code",
   "execution_count": null,
   "metadata": {},
   "outputs": [],
   "source": []
  },
  {
   "cell_type": "code",
   "execution_count": 57,
   "metadata": {},
   "outputs": [
    {
     "data": {
      "text/plain": [
       "Text(0.5, 1.0, 'recur part')"
      ]
     },
     "execution_count": 57,
     "metadata": {},
     "output_type": "execute_result"
    },
    {
     "data": {
      "image/png": "[encoded data removed]",
      "text/plain": [
       "<Figure size 1440x1440 with 2 Axes>"
      ]
     },
     "metadata": {
      "needs_background": "light"
     },
     "output_type": "display_data"
    }
   ],
   "source": []
  },
  {
   "cell_type": "code",
   "execution_count": 10,
   "metadata": {},
   "outputs": [
    {
     "name": "stdout",
     "output_type": "stream",
     "text": [
      "initial score 0.5268729641693811\n",
      "score after random permutations 0.3557055794893349\n",
      "1 1 0.34963749080592627\n",
      "6 4 0.34832405169696334\n",
      "14 7 0.3465115057265945\n",
      "20 5 0.3442786592413576\n",
      "22 1 0.33997057896395927\n",
      "24 1 0.3396290847956289\n",
      "29 4 0.33434905957759803\n",
      "34 4 0.331906062834927\n",
      "35 0 0.3270988756961228\n",
      "38 2 0.327020069349585\n",
      "39 0 0.3258117053693391\n",
      "40 0 0.3238152779237155\n",
      "44 3 0.3155143427550699\n",
      "45 0 0.31296627088368184\n",
      "47 1 0.3128611957549648\n",
      "54 6 0.3114689502994641\n",
      "55 0 0.31128506882420925\n",
      "61 5 0.3003309866554586\n",
      "71 9 0.2964432068929284\n",
      "76 4 0.2919775139224545\n",
      "79 2 0.2848324051696963\n",
      "82 2 0.26439529263423345\n",
      "83 0 0.26142692024797726\n",
      "84 0 0.26011348113901434\n",
      "85 0 0.25943049280235364\n",
      "93 7 0.25139224545550065\n",
      "94 0 0.2463486392770831\n",
      "108 13 0.24183040874225067\n",
      "112 3 0.23996532520752334\n",
      "113 0 0.23804770410843748\n",
      "117 3 0.23479037511820947\n",
      "118 0 0.2334506672270673\n",
      "122 3 0.23058736996952817\n",
      "123 0 0.22578018283072393\n",
      "124 0 0.22286434800882626\n",
      "125 0 0.21729536618682352\n",
      "129 3 0.21500998213722805\n",
      "130 0 0.21443206892928438\n",
      "132 1 0.21427445623620883\n",
      "142 9 0.198723337186088\n",
      "146 3 0.1969107912157192\n",
      "150 3 0.19512451402752964\n",
      "152 1 0.18871493117579066\n",
      "153 0 0.18708626668067665\n",
      "168 14 0.18553640853210043\n",
      "169 0 0.18419670064095828\n",
      "170 0 0.16830408742250708\n",
      "172 1 0.16662288536303455\n",
      "176 3 0.16123778501628663\n",
      "178 1 0.15971419564988967\n",
      "186 7 0.156693285699275\n",
      "189 2 0.15608910370915205\n",
      "191 1 0.1530419249763581\n",
      "197 5 0.15180729221393297\n",
      "199 1 0.15017862771881896\n",
      "227 27 0.14715771776820427\n",
      "240 12 0.14439949563938217\n",
      "242 1 0.13544184091625514\n",
      "246 3 0.1338919827676789\n",
      "248 1 0.13058211621309238\n",
      "254 5 0.12989912787643165\n",
      "256 1 0.12538089734159924\n",
      "263 6 0.12530209099506145\n",
      "276 12 0.11862982032152988\n",
      "279 2 0.11726384364820845\n",
      "284 4 0.11686981191551958\n",
      "285 0 0.11292949458863086\n",
      "299 13 0.11135336765787537\n",
      "311 11 0.10985604707365766\n",
      "370 58 0.10862141431123253\n",
      "377 6 0.10281601344961647\n",
      "387 9 0.09611747399390563\n",
      "394 6 0.09477776610276346\n",
      "422 27 0.08952400966691183\n",
      "424 1 0.08805295786487338\n",
      "432 7 0.08676578753808974\n",
      "462 29 0.08487443522118315\n",
      "472 9 0.08295681412209731\n",
      "474 1 0.08174845014185143\n",
      "495 20 0.0814594935378796\n",
      "519 23 0.08056635494378482\n",
      "535 15 0.077939476725859\n",
      "553 17 0.07667857518125461\n",
      "566 12 0.07216034464642221\n",
      "572 5 0.06530419249763583\n",
      "574 1 0.06294000210150259\n",
      "602 27 0.06133760638856785\n",
      "627 24 0.05994536093306716\n",
      "639 11 0.05721340758642431\n",
      "649 9 0.0568456446359147\n",
      "662 12 0.05537459283387624\n",
      "672 9 0.05280025218030894\n",
      "676 3 0.05151308185352529\n",
      "689 12 0.05132920037827048\n",
      "700 10 0.0499369549227698\n",
      "707 6 0.04885993485342021\n",
      "710 2 0.04670589471472104\n",
      "717 6 0.04667962593254178\n",
      "765 47 0.04413155406115374\n",
      "805 39 0.0423978144373227\n",
      "825 19 0.04216139539770938\n",
      "837 11 0.04084795628874647\n",
      "857 19 0.039166754229273945\n",
      "882 24 0.03795839024902807\n",
      "893 10 0.03483240516969635\n",
      "902 8 0.033624041189450476\n",
      "967 64 0.032336870862666824\n",
      "986 18 0.02923715456551436\n",
      "992 5 0.0292108857833351\n",
      "1018 25 0.028843122832825488\n",
      "1023 4 0.02752968372386258\n",
      "1029 5 0.02595355679310709\n",
      "1063 33 0.024587580119785665\n",
      "1084 20 0.023274141010822758\n",
      "1160 75 0.022958915624671658\n",
      "1171 10 0.02164547651570875\n",
      "1267 95 0.019228748555216998\n",
      "1356 88 0.01920247977303774\n",
      "1392 35 0.01775769675317854\n",
      "1445 52 0.016391720079857116\n",
      "1449 3 0.01505201218871495\n",
      "1595 145 0.013817379426289815\n",
      "1705 109 0.013791110644110557\n",
      "1794 88 0.012004833455921002\n",
      "1805 10 0.010428706525165511\n",
      "1851 45 0.009088998634023345\n",
      "2013 161 0.009036461069664829\n",
      "2296 282 0.007749290742881178\n",
      "2416 119 0.006540926762635303\n",
      "2539 122 0.0049910686140590705\n",
      "2563 23 0.004938531049700554\n",
      "2587 23 0.0036513607229169036\n",
      "2897 309 0.0024429967426710278\n",
      "3097 199 0.0012083639802458938\n",
      "\n",
      "optimized score 0.0012083639802458938 in 4098 steps. time: 1.1612746715545654\n",
      "cross check     0.0012083639802458758\n"
     ]
    }
   ],
   "source": [
    "n_list,adj = conn2adj(conn_sum[conn_sum['weight']>45])\n",
    "perm = optimize(adj,seed=0,verbose=True)"
   ]
  },
  {
   "cell_type": "code",
   "execution_count": 13,
   "metadata": {},
   "outputs": [
    {
     "data": {
      "text/plain": [
       "<matplotlib.image.AxesImage at 0x7f38483b7080>"
      ]
     },
     "execution_count": 13,
     "metadata": {},
     "output_type": "execute_result"
    },
    {
     "data": {
      "image/png": "[encoded data removed]",
      "text/plain": [
       "<Figure size 432x288 with 2 Axes>"
      ]
     },
     "metadata": {
      "needs_background": "light"
     },
     "output_type": "display_data"
    }
   ],
   "source": [
    "fig,axs = plt.subplots(ncols=2,nrows=1)\n",
    "\n",
    "axs[0].imshow(adj>0*1,cmap='gray')\n",
    "axs[1].imshow(adj[perm,:][:,perm]>0*1,cmap='gray')"
   ]
  },
  {
   "cell_type": "code",
   "execution_count": 35,
   "metadata": {},
   "outputs": [],
   "source": [
    "neur_list_0,adj_0 = conn2adj(conn_0)\n",
    "perm_0 = optimize(adj_0,seed=0,verbose=False)"
   ]
  },
  {
   "cell_type": "code",
   "execution_count": 59,
   "metadata": {},
   "outputs": [
    {
     "name": "stdout",
     "output_type": "stream",
     "text": [
      "PB(L9)\n",
      "PB(L8)\n",
      "PB(L7)\n",
      "PB(L6)\n",
      "PB(L5)\n",
      "PB(L4)\n",
      "PB(L3)\n",
      "PB(L2)\n",
      "PB(L1)\n",
      "PB(R1)\n",
      "PB(R2)\n",
      "PB(R3)\n",
      "PB(R4)\n",
      "PB(R5)\n",
      "PB(R6)\n",
      "PB(R7)\n",
      "PB(R8)\n",
      "PB(R9)\n"
     ]
    }
   ],
   "source": [
    "perm = {roi:0 for roi in rois}\n",
    "neur_list = {roi:0 for roi in rois}\n",
    "adjs = {}\n",
    "for roi in rois_ordered:\n",
    "    print(roi)\n",
    "    n_list,adj = conn2adj(conn_sum[conn_sum['roi']==roi])\n",
    "    adjs[roi] = adj\n",
    "    neur_list[roi] = n_list\n",
    "    perm[roi] = optimize(adj,seed=0,verbose=False)\n"
   ]
  },
  {
   "cell_type": "code",
   "execution_count": null,
   "metadata": {},
   "outputs": [],
   "source": []
  },
  {
   "cell_type": "code",
   "execution_count": 69,
   "metadata": {},
   "outputs": [
    {
     "data": {
      "text/plain": [
       "<matplotlib.image.AxesImage at 0x7f49326b4d68>"
      ]
     },
     "execution_count": 69,
     "metadata": {},
     "output_type": "execute_result"
    },
    {
     "data": {
      "image/png": "[encoded data removed]",
      "text/plain": [
       "<Figure size 432x288 with 1 Axes>"
      ]
     },
     "metadata": {
      "needs_background": "light"
     },
     "output_type": "display_data"
    }
   ],
   "source": [
    "\n",
    "plt.imshow(adjs[rois_ordered[-1]]>0*1,cmap='gray')"
   ]
  },
  {
   "cell_type": "code",
   "execution_count": null,
   "metadata": {
    "scrolled": true
   },
   "outputs": [],
   "source": []
  },
  {
   "cell_type": "code",
   "execution_count": null,
   "metadata": {},
   "outputs": [],
   "source": []
  },
  {
   "cell_type": "code",
   "execution_count": 23,
   "metadata": {},
   "outputs": [
    {
     "data": {
      "text/plain": [
       "0.1273493273175129"
      ]
     },
     "execution_count": 23,
     "metadata": {},
     "output_type": "execute_result"
    }
   ],
   "source": [
    "compute_score(adj,perm=perm)"
   ]
  },
  {
   "cell_type": "code",
   "execution_count": 34,
   "metadata": {},
   "outputs": [
    {
     "data": {
      "text/plain": [
       "0.1273493273175129"
      ]
     },
     "execution_count": 34,
     "metadata": {},
     "output_type": "execute_result"
    }
   ],
   "source": [
    "compute_score(adj[perm,:][:,perm])"
   ]
  },
  {
   "cell_type": "code",
   "execution_count": 33,
   "metadata": {},
   "outputs": [
    {
     "data": {
      "text/plain": [
       "<matplotlib.image.AxesImage at 0x7f4936920eb8>"
      ]
     },
     "execution_count": 33,
     "metadata": {},
     "output_type": "execute_result"
    },
    {
     "data": {
      "image/png": "[encoded data removed]",
      "text/plain": [
       "<Figure size 432x288 with 2 Axes>"
      ]
     },
     "metadata": {
      "needs_background": "light"
     },
     "output_type": "display_data"
    }
   ],
   "source": [
    "fig,axs = plt.subplots(ncols=2,nrows=1)\n",
    "\n",
    "axs[0].imshow(adj>0*1,cmap='gray')\n",
    "axs[1].imshow(adj[perm,:][:,perm]>0*1,cmap='gray')"
   ]
  }
 ],
 "metadata": {
  "kernelspec": {
   "display_name": "Python 3",
   "language": "python",
   "name": "python3"
  },
  "language_info": {
   "codemirror_mode": {
    "name": "ipython",
    "version": 3
   },
   "file_extension": ".py",
   "mimetype": "text/x-python",
   "name": "python",
   "nbconvert_exporter": "python",
   "pygments_lexer": "ipython3",
   "version": "3.7.3"
  }
 },
 "nbformat": 4,
 "nbformat_minor": 2
}
