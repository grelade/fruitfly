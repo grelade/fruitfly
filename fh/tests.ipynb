{
 "cells": [
  {
   "cell_type": "markdown",
   "metadata": {},
   "source": [
    "<h1>flow_hierarchy checks</h1>"
   ]
  },
  {
   "cell_type": "code",
   "execution_count": 1,
   "metadata": {},
   "outputs": [],
   "source": [
    "import pandas as pd\n",
    "import numpy as np\n",
    "import matplotlib.pyplot as plt\n",
    "import scipy.sparse\n",
    "\n",
    "from flow_hierarchy import hpy\n",
    "from timeit import default_timer\n",
    "import mat4py\n",
    "import networkx as nx\n",
    "import os"
   ]
  },
  {
   "cell_type": "code",
   "execution_count": 2,
   "metadata": {},
   "outputs": [],
   "source": [
    "def gen_random_adj(size=5,p=0.5):\n",
    "    S = size\n",
    "    adj = np.tril(np.random.randint(10,size=(S,S))*np.random.randint(2,size=(S,S)),-1) + np.triu(np.random.randint(5,size=(S,S))*np.random.choice([0,1],size=(S,S),p=[p,1-p]),1) \n",
    "    return adj"
   ]
  },
  {
   "cell_type": "code",
   "execution_count": 3,
   "metadata": {
    "scrolled": true
   },
   "outputs": [
    {
     "name": "stdout",
     "output_type": "stream",
     "text": [
      "adj size = (50, 50)\n",
      "h=0.40212443095599393,0.40212443095599393\n",
      "h_randwire=0.1358118361153262,0.1358118361153262\n",
      "h_randweight=0.41691957511380884,0.41691957511380884\n"
     ]
    },
    {
     "data": {
      "image/png": "[encoded data removed]",
      "text/plain": [
       "<Figure size 432x288 with 1 Axes>"
      ]
     },
     "metadata": {
      "needs_background": "light"
     },
     "output_type": "display_data"
    }
   ],
   "source": [
    "\n",
    "adj = gen_random_adj(50,p=0.99)\n",
    "plt.imshow(adj)\n",
    "print('adj size =',adj.shape)\n",
    "#adj = adj>0*1\n",
    "#fh\n",
    "h = hpy(adj)\n",
    "g = nx.DiGraph(adj)\n",
    "h2 = nx.flow_hierarchy(g,weight='weight')\n",
    "\n",
    "#fh random rewiring\n",
    "N = adj.shape[0]\n",
    "perm = np.random.permutation(N)\n",
    "h_randwire = hpy(adj[:, perm])\n",
    "g = nx.DiGraph(adj[:, perm])\n",
    "h_randwire2 = nx.flow_hierarchy(g,weight='weight')\n",
    "\n",
    "#fh random weight shuffling\n",
    "nonz = np.nonzero(adj)\n",
    "weights = adj[nonz]\n",
    "np.random.shuffle(weights)\n",
    "adj[nonz] = weights\n",
    "h_randweight = hpy(adj)\n",
    "g = nx.DiGraph(adj)\n",
    "h_randweight2 = nx.flow_hierarchy(g,weight='weight')\n",
    "\n",
    "\n",
    "print(f'h={h},{h2}')\n",
    "print(f'h_randwire={h_randwire},{h_randwire2}')\n",
    "print(f'h_randweight={h_randweight},{h_randweight2}')"
   ]
  },
  {
   "cell_type": "code",
   "execution_count": 4,
   "metadata": {},
   "outputs": [
    {
     "name": "stdout",
     "output_type": "stream",
     "text": [
      "10\n",
      "recurrence= 0.43\n",
      "20\n",
      "recurrence= 0.37\n",
      "30\n",
      "recurrence= 0.39222222222222225\n",
      "50\n",
      "recurrence= 0.4084\n",
      "70\n",
      "recurrence= 0.42142857142857143\n",
      "100\n",
      "recurrence= 0.4138\n"
     ]
    }
   ],
   "source": [
    "times = {'py_np':[],'nx':[]}\n",
    "methods = {'py_np':np.zeros,'nx':''}\n",
    "sizes = [10,20,30,50,70,100]\n",
    "\n",
    "for size in sizes:\n",
    "    print(size)\n",
    "    #adj =np.random.binomial(1,0.2,size=(size,size))\n",
    "    adj = gen_random_adj(size=size)\n",
    "    \n",
    "    print('recurrence=',np.sum((adj>0)*1)/np.product(adj.shape))\n",
    "    \n",
    "    for method in methods.keys():\n",
    "        if method=='nx':\n",
    "            g = nx.DiGraph(adj)\n",
    "            start = default_timer()\n",
    "            h = nx.flow_hierarchy(g,weight='weight')\n",
    "            end = default_timer()\n",
    "            time = end-start\n",
    "            times[method] +=[time]\n",
    "        else:    \n",
    "            fh1,time = hpy(adj,output_exec_time=True,mat_init_func=methods[method])\n",
    "            times[method] +=[time]\n",
    "\n"
   ]
  },
  {
   "cell_type": "code",
   "execution_count": 5,
   "metadata": {},
   "outputs": [
    {
     "data": {
      "image/png": "[encoded data removed]",
      "text/plain": [
       "<Figure size 432x288 with 1 Axes>"
      ]
     },
     "metadata": {
      "needs_background": "light"
     },
     "output_type": "display_data"
    }
   ],
   "source": [
    "method_styles = {'py_np':'r.-','nx':'b-'}\n",
    "\n",
    "fig = plt.figure()\n",
    "for key in times.keys():\n",
    "    plt.plot(sizes,times[key],method_styles[key],label='alg '+key)\n",
    "plt.xlabel('matrix size')\n",
    "plt.ylabel('exec_time')\n",
    "plt.legend()\n",
    "plt.show()\n"
   ]
  }
 ],
 "metadata": {
  "kernelspec": {
   "display_name": "Python 3",
   "language": "python",
   "name": "python3"
  },
  "language_info": {
   "codemirror_mode": {
    "name": "ipython",
    "version": 3
   },
   "file_extension": ".py",
   "mimetype": "text/x-python",
   "name": "python",
   "nbconvert_exporter": "python",
   "pygments_lexer": "ipython3",
   "version": "3.7.3"
  }
 },
 "nbformat": 4,
 "nbformat_minor": 2
}
